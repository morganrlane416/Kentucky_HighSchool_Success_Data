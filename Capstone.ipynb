{
 "cells": [
  {
   "cell_type": "code",
   "execution_count": null,
   "id": "d0ae18cf",
   "metadata": {},
   "outputs": [],
   "source": [
    "import pandas as pd"
   ]
  },
  {
   "cell_type": "code",
   "execution_count": null,
   "id": "d1af5dc5",
   "metadata": {},
   "outputs": [],
   "source": [
    "# profile of school account\n",
    "df_profile = pd.read_csv(\"KYRC24_ACCT_Profile.csv\")"
   ]
  },
  {
   "cell_type": "code",
   "execution_count": null,
   "id": "82dd4962",
   "metadata": {},
   "outputs": [],
   "source": [
    "# remove unnecessary columns and put focus on high schools only\n",
    "df_profile = df_profile[(df_profile['Level'] == 'High School') & (df_profile['School Name']!= 'All Schools')]\n",
    "df_profile = df_profile.drop(['School Year', 'County Number', 'District Number', 'School Number', 'School Code', 'State School Id', 'NCES Id', 'Co-Op', 'Co-Op Code','Federal Classification', 'Reason for Federal Classification', 'Feeder School'], axis=1)"
   ]
  },
  {
   "cell_type": "code",
   "execution_count": null,
   "id": "8d9439d6",
   "metadata": {},
   "outputs": [],
   "source": [
    "# remove repetitive data\n",
    "def remove_repeats(df):\n",
    "    dropped = []\n",
    "    for col in df_profile.columns:\n",
    "        if 'CHANGE DIFFERENCE' in col:\n",
    "            dropped.append(col)\n",
    "    return df_profile.drop(dropped, axis = 1)\n",
    "    \n",
    "df_profile = remove_repeats(df_profile)"
   ]
  },
  {
   "cell_type": "code",
   "execution_count": null,
   "id": "06cf4400",
   "metadata": {},
   "outputs": [],
   "source": [
    "# extract dataframe with basic info about each school\n",
    "df_basic = df_profile.filter(items=['County Name', 'District Name', 'School Name'])"
   ]
  },
  {
   "cell_type": "code",
   "execution_count": null,
   "id": "8edb3918",
   "metadata": {},
   "outputs": [],
   "source": [
    "# function for focusing data using single keyword\n",
    "def focus_df (keyword):\n",
    "    upper = keyword.upper()\n",
    "    df_filtered = df_profile.filter(like=upper)\n",
    "    return df_filtered"
   ]
  },
  {
   "cell_type": "code",
   "execution_count": null,
   "id": "301f0e42",
   "metadata": {},
   "outputs": [],
   "source": [
    "# create an empty list for user input to access info needed for plots\n",
    "user_ints = []"
   ]
  },
  {
   "cell_type": "code",
   "execution_count": null,
   "id": "b7d2138f",
   "metadata": {},
   "outputs": [],
   "source": [
    "# function for specifying a metric to consider, specifically referencing groupings in the data\n",
    "def metric_spec (question, opt_list):\n",
    "    opt_str = 'Enter '\n",
    "    for option in opt_list:\n",
    "        if opt_list.index(option) < (len(opt_list)-2):\n",
    "            opt_str = opt_str + f'{int(opt_list.index(option)+1)} for {option}, '\n",
    "        elif opt_list.index(option) < int(len(opt_list)-1) and len(opt_list) == 2:\n",
    "            opt_str = opt_str + f'{int(opt_list.index(option)+1)} for {option} '\n",
    "        elif opt_list.index(option) < int(len(opt_list)-1) and len(opt_list) > 2:\n",
    "            opt_str = opt_str + f'{int(opt_list.index(option)+1)} for {option}, '\n",
    "        else:\n",
    "            opt_str = opt_str + f'or {int(opt_list.index(option)+1)} for {option}.'\n",
    "    metric = int(input(f'{question} {opt_str}'))\n",
    "    user_ints.append(metric)\n",
    "    # limitation of using focus_df if you have same starting word for grouping, \n",
    "    # can't differentiate based on current code\n",
    "    return focus_df(opt_list[metric-1].split()[0].strip(','))"
   ]
  },
  {
   "cell_type": "code",
   "execution_count": null,
   "id": "479e093e",
   "metadata": {},
   "outputs": [],
   "source": [
    "# take user input for content focus\n",
    "content = 'Which content area would you like to consider?'\n",
    "content_list = ['Reading & Math', 'Science, Social Studies, & Writing']\n",
    "df_met1 = metric_spec(content, content_list)"
   ]
  },
  {
   "cell_type": "code",
   "execution_count": null,
   "id": "cea51add",
   "metadata": {},
   "outputs": [],
   "source": [
    "# take user focus for non-content focus\n",
    "non_con = 'Which non-content specific metric would you like to consider?' \n",
    "non_con_list = ['Graduation', 'English Learners Progress', 'Quality of School Climate and Safety', 'Postsecondary']\n",
    "df_met2 = metric_spec(non_con, non_con_list)\n",
    "# print(user_ints)"
   ]
  },
  {
   "cell_type": "code",
   "execution_count": null,
   "id": "ae2fb19b",
   "metadata": {},
   "outputs": [],
   "source": [
    "# take user focus and join specific dataframes together for easier manipulation/visualization\n",
    "df_joined = pd.concat([df_basic, df_met1, df_met2], axis = 1)\n",
    "df_joined.head(50)\n",
    "df_joined.to_csv('df_joined.csv', index=False)"
   ]
  }
 ],
 "metadata": {
  "kernelspec": {
   "display_name": ".venv",
   "language": "python",
   "name": "python3"
  },
  "language_info": {
   "codemirror_mode": {
    "name": "ipython",
    "version": 3
   },
   "file_extension": ".py",
   "mimetype": "text/x-python",
   "name": "python",
   "nbconvert_exporter": "python",
   "pygments_lexer": "ipython3",
   "version": "3.13.2"
  }
 },
 "nbformat": 4,
 "nbformat_minor": 5
}
