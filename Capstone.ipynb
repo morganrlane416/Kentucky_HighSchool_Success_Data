{
 "cells": [
  {
   "cell_type": "code",
   "execution_count": null,
   "id": "d0ae18cf",
   "metadata": {},
   "outputs": [],
   "source": [
    "import pandas as pd"
   ]
  },
  {
   "cell_type": "code",
   "execution_count": null,
   "id": "d1af5dc5",
   "metadata": {},
   "outputs": [],
   "source": [
    "# profile of school account\n",
    "df_profile = pd.read_csv(\"KYRC24_ACCT_Profile.csv\")"
   ]
  },
  {
   "cell_type": "code",
   "execution_count": null,
   "id": "82dd4962",
   "metadata": {},
   "outputs": [],
   "source": [
    "# remove unnecessary columns and put focus on high schools only\n",
    "df_profile = df_profile[(df_profile['Level'] == 'High School') & (df_profile['School Name']!= 'All Schools')]\n",
    "df_profile = df_profile.drop(['School Year', 'County Number', 'District Number', 'School Number', 'School Code', 'State School Id', 'NCES Id', 'Co-Op', 'Co-Op Code','Federal Classification', 'Reason for Federal Classification', 'Feeder School'], axis=1)"
   ]
  },
  {
   "cell_type": "code",
   "execution_count": null,
   "id": "8d9439d6",
   "metadata": {},
   "outputs": [],
   "source": [
    "# remove repetitive data\n",
    "def remove_repeats(df):\n",
    "    dropped = []\n",
    "    for col in df_profile.columns:\n",
    "        if 'CHANGE DIFFERENCE' in col:\n",
    "            dropped.append(col)\n",
    "    return df_profile.drop(dropped, axis = 1)\n",
    "    \n",
    "df_profile = remove_repeats(df_profile)"
   ]
  }
 ],
 "metadata": {
  "kernelspec": {
   "display_name": ".venv",
   "language": "python",
   "name": "python3"
  },
  "language_info": {
   "codemirror_mode": {
    "name": "ipython",
    "version": 3
   },
   "file_extension": ".py",
   "mimetype": "text/x-python",
   "name": "python",
   "nbconvert_exporter": "python",
   "pygments_lexer": "ipython3",
   "version": "3.13.2"
  }
 },
 "nbformat": 4,
 "nbformat_minor": 5
}
